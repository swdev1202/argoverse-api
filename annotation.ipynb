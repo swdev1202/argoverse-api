{
 "cells": [
  {
   "cell_type": "markdown",
   "metadata": {},
   "source": [
    "# Turning Argoverse Data to KITTI 3D Object Detection Format\n",
    "\n",
    "For this notebook, it only takes the sample dataset. For the real conversion, this will consider all logs in argoverse dataset."
   ]
  },
  {
   "cell_type": "code",
   "execution_count": 1,
   "metadata": {},
   "outputs": [
    {
     "name": "stdout",
     "output_type": "stream",
     "text": [
      "Total number of logs: 1\n",
      "#images: 3441\n",
      "#lidar: 157\n"
     ]
    }
   ],
   "source": [
    "import argoverse\n",
    "from argoverse.data_loading.argoverse_tracking_loader import ArgoverseTrackingLoader\n",
    "\n",
    "##set root_dir to the correct path to your dataset folder\n",
    "root_dir =  '../argoverse-tracking/sample/'\n",
    "argoverse_loader = ArgoverseTrackingLoader(root_dir)\n",
    "print('Total number of logs:',len(argoverse_loader))\n",
    "argoverse_loader.print_all()"
   ]
  },
  {
   "cell_type": "code",
   "execution_count": 2,
   "metadata": {},
   "outputs": [
    {
     "name": "stdout",
     "output_type": "stream",
     "text": [
      "<class 'argoverse.data_loading.argoverse_tracking_loader.ArgoverseTrackingLoader'>\n"
     ]
    }
   ],
   "source": [
    "argoverse_data = argoverse_loader[0]\n",
    "print(type(argoverse_data))"
   ]
  },
  {
   "cell_type": "markdown",
   "metadata": {},
   "source": [
    "### Synchronize stereo pairs with LiDAR point clouds"
   ]
  },
  {
   "cell_type": "code",
   "execution_count": 3,
   "metadata": {},
   "outputs": [
    {
     "name": "stdout",
     "output_type": "stream",
     "text": [
      "files are synchronized.\n",
      "total number of synchornized files for this log = 79\n"
     ]
    }
   ],
   "source": [
    "unique_stereo_left_with_path = argoverse_data.image_list[\"stereo_front_left\"]\n",
    "unique_stereo_right_with_path = argoverse_data.image_list[\"stereo_front_right\"]\n",
    "\n",
    "entire_lidar_with_path = argoverse_data._lidar_list[argoverse_data.current_log]\n",
    "\n",
    "unique_lidar_with_path = {}\n",
    "\n",
    "for i in range(len(entire_lidar_with_path)):\n",
    "    if(i%2 == 0):\n",
    "        # store the pair\n",
    "        # unique_lidar_with_path.append(entire_lidar_with_path[i])\n",
    "        unique_lidar_with_path[i] = entire_lidar_with_path[i];\n",
    "        \n",
    "if(len(unique_stereo_left_with_path) == len(unique_stereo_right_with_path) == len(unique_lidar_with_path)):\n",
    "    print(\"files are synchronized.\")\n",
    "    print(\"total number of synchornized files for this log =\",(len(unique_lidar_with_path)))\n",
    "else:\n",
    "    print(\"there was something wrong during synchronization, please check the files again.\")"
   ]
  },
  {
   "cell_type": "markdown",
   "metadata": {},
   "source": [
    "### Annotation Conversion"
   ]
  },
  {
   "cell_type": "code",
   "execution_count": 4,
   "metadata": {},
   "outputs": [
    {
     "name": "stdout",
     "output_type": "stream",
     "text": [
      "{'VEHICLE': 49, 'ON_ROAD_OBSTACLE': 7, 'PEDESTRIAN': 2, 'LARGE_VEHICLE': 3, 'MOTORCYCLE': 1}\n"
     ]
    }
   ],
   "source": [
    "object_dict = {}\n",
    "\n",
    "for k in unique_lidar_with_path.keys():\n",
    "    objects = argoverse_data.get_label_object(k)\n",
    "    for obj in objects:\n",
    "        if(obj.label_class in object_dict):\n",
    "            object_dict[obj.label_class] += 1\n",
    "        else:\n",
    "            object_dict[obj.label_class] = 1\n",
    "    break\n",
    "            \n",
    "''' object\n",
    "        quaternion: np.array,\n",
    "        translation: np.array,\n",
    "        length: float,\n",
    "        width: float,\n",
    "        height: float,\n",
    "        occlusion: int,\n",
    "        label_class: Optional[str] = None,\n",
    "        track_id: Optional[str] = None,\n",
    "\n",
    "'''\n",
    "    \n",
    "'''   \n",
    "for i in range(len(unique_lidar_with_path)):\n",
    "    print(unique_lidar_with_path[i])\n",
    "    objects = argoverse_data.get_label_object(i)\n",
    "    for obj in objects:\n",
    "        if(obj.label_class in object_dict):\n",
    "            object_dict[obj.label_class] += 1\n",
    "        else:\n",
    "            object_dict[obj.label_class] = 1\n",
    "            \n",
    "        # 'trasnlation' -> [x,y,z] centroid of an object\n",
    "        # 'occlusion' -> occlusion value of an object. Argoverse is always 0.\n",
    "        # 'Bbox'\n",
    "'''\n",
    "\n",
    "# total number of classes (objects) throughout the dataset (logs)\n",
    "print(object_dict)"
   ]
  },
  {
   "cell_type": "code",
   "execution_count": null,
   "metadata": {},
   "outputs": [],
   "source": [
    "objects = argoverse_data.get_label_object(0)\n",
    "for obj in objects:\n",
    "    print(obj.label_class)\n",
    "    print(obj.translation)"
   ]
  },
  {
   "cell_type": "code",
   "execution_count": null,
   "metadata": {},
   "outputs": [],
   "source": [
    "x_mean = temp[:,0].mean()\n",
    "y_mean = temp[:,1].mean()\n",
    "z_mean = temp[:,2].mean()"
   ]
  },
  {
   "cell_type": "code",
   "execution_count": null,
   "metadata": {},
   "outputs": [],
   "source": [
    "print(x_mean, y_mean, z_mean)"
   ]
  },
  {
   "cell_type": "code",
   "execution_count": null,
   "metadata": {},
   "outputs": [],
   "source": [
    "%matplotlib inline\n",
    "import matplotlib\n",
    "import matplotlib.pyplot as plt\n",
    "from PIL import Image\n",
    "from mpl_toolkits.mplot3d import Axes3D\n",
    "import numpy as np\n",
    "from argoverse.utils.cv2_plotting_utils import plot_bbox_polygon_cv2\n",
    "import argoverse.visualization.visualization_utils as viz_util\n",
    "\n",
    "print(' ------------------------------------------------------------------------')\n",
    "print(' ------------------------- Ring Cameras ---------------------------------')\n",
    "print(' ------------------------------------------------------------------------\\n')\n",
    "\n",
    "f,ax = viz_util.make_grid_ring_camera(argoverse_data,0)\n",
    "plt.show()\n",
    "print(' ------------------------------------------------------------------------')\n",
    "print(' ------------------------- Point cloud ---------------------------------')\n",
    "print(' ------------------------------------------------------------------------\\n')\n",
    "\n",
    "f2 = plt.figure(figsize=(15, 8))\n",
    "ax2 = f2.add_subplot(111, projection='3d')  \n",
    "   \n",
    "viz_util.draw_point_cloud(ax2, 'Lidar scan',argoverse_data,0, xlim3d=[-100,100], ylim3d=[-50,50])\n",
    "ax2.axis('off')"
   ]
  }
 ],
 "metadata": {
  "kernelspec": {
   "display_name": "Python 3",
   "language": "python",
   "name": "python3"
  },
  "language_info": {
   "codemirror_mode": {
    "name": "ipython",
    "version": 3
   },
   "file_extension": ".py",
   "mimetype": "text/x-python",
   "name": "python",
   "nbconvert_exporter": "python",
   "pygments_lexer": "ipython3",
   "version": "3.6.8"
  }
 },
 "nbformat": 4,
 "nbformat_minor": 2
}
