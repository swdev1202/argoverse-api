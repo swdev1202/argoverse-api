{
 "cells": [
  {
   "cell_type": "code",
   "execution_count": 31,
   "metadata": {},
   "outputs": [],
   "source": [
    "import os\n",
    "import numpy as np\n",
    "import argoverse\n",
    "import shutil\n",
    "from matplotlib.pyplot import imshow\n",
    "from argoverse.data_loading.argoverse_tracking_loader import ArgoverseTrackingLoader\n",
    "from argoverse.utils.ply_loader import load_ply\n",
    "from argoverse.utils.camera_stats import get_image_dims_for_camera as get_dim\n",
    "from argoverse.utils.calibration import project_lidar_to_img\n",
    "from PIL import Image"
   ]
  },
  {
   "cell_type": "code",
   "execution_count": 4,
   "metadata": {},
   "outputs": [],
   "source": [
    "root_dir = '/home/sean/Desktop/data/'"
   ]
  },
  {
   "cell_type": "code",
   "execution_count": 5,
   "metadata": {},
   "outputs": [],
   "source": [
    "subroot_dir = root_dir + 'train1/'"
   ]
  },
  {
   "cell_type": "code",
   "execution_count": 6,
   "metadata": {},
   "outputs": [],
   "source": [
    "argoverse_loader = ArgoverseTrackingLoader(subroot_dir)"
   ]
  },
  {
   "cell_type": "code",
   "execution_count": 7,
   "metadata": {},
   "outputs": [
    {
     "name": "stdout",
     "output_type": "stream",
     "text": [
      "Total number of logs: 3\n",
      "#images: 474\n",
      "#lidar: 471\n",
      "['8a15674a-ae5c-38e2-bc4b-f4156d384072', '5ab2697b-6e3e-3454-a36a-aba2c6f27818', '1d676737-4110-3f7e-bec0-0c90f74c248f']\n"
     ]
    }
   ],
   "source": [
    "print('Total number of logs:',len(argoverse_loader))\n",
    "argoverse_loader.print_all()\n",
    "print(argoverse_loader.log_list)"
   ]
  },
  {
   "cell_type": "code",
   "execution_count": 37,
   "metadata": {},
   "outputs": [
    {
     "name": "stdout",
     "output_type": "stream",
     "text": [
      "stereo_front_left\n",
      "2464\n",
      "2056\n"
     ]
    }
   ],
   "source": [
    "camL = argoverse_loader.CAMERA_LIST[7] # left stereo\n",
    "print(camL)\n",
    "camR = argoverse_loader.CAMERA_LIST[8] # right stereo\n",
    "(width, height) = get_dim(camL)\n",
    "print(width)\n",
    "print(height)\n",
    "baseline = 0.3"
   ]
  },
  {
   "cell_type": "code",
   "execution_count": 46,
   "metadata": {},
   "outputs": [
    {
     "name": "stdout",
     "output_type": "stream",
     "text": [
      "processing log: 8a15674a-ae5c-38e2-bc4b-f4156d384072\n",
      "3658.4454222302525\n",
      "index:  0 current timestamp:  315969684019978000\n",
      "(93926,)\n",
      "14431\n",
      "8423\n",
      "(93926,)\n",
      "(8423, 3)\n",
      "-1095.6295908391448\n",
      "<class 'numpy.ndarray'>\n",
      "processing log: 5ab2697b-6e3e-3454-a36a-aba2c6f27818\n",
      "3640.9264016393313\n",
      "index:  0 current timestamp:  315972990020197000\n",
      "(97086,)\n",
      "13679\n",
      "8299\n",
      "(97086,)\n",
      "(8299, 3)\n",
      "-1090.4030266836623\n",
      "<class 'numpy.ndarray'>\n",
      "processing log: 1d676737-4110-3f7e-bec0-0c90f74c248f\n",
      "3671.839161483479\n",
      "index:  0 current timestamp:  315984808019684000\n",
      "(91487,)\n",
      "12448\n",
      "8029\n",
      "(91487,)\n",
      "(8029, 3)\n",
      "-1099.7407501770135\n",
      "<class 'numpy.ndarray'>\n"
     ]
    }
   ],
   "source": [
    "for log_id in argoverse_loader.log_list:\n",
    "    print(\"processing log:\", log_id)\n",
    "    argoverse_data = argoverse_loader.get(log_id)\n",
    "    calibL = argoverse_data.get_calibration(camL)\n",
    "    print(calibL.K[0,0])\n",
    "    calibR = argoverse_data.get_calibration(camR)\n",
    "    focalX_px = calibL.K[0,0]\n",
    "    baseline_focal = focalX_px * baseline\n",
    "    disparity_dir = subroot_dir + '/' + log_id + '/disparity/'\n",
    "    if not os.path.isdir(disparity_dir):\n",
    "        os.makedirs(disparity_dir)\n",
    "        \n",
    "    lidar_list = argoverse_data.lidar_list\n",
    "    lidar_timestamp_list = argoverse_data.lidar_timestamp_list\n",
    "    lidar_5hz_list = lidar_list[::2] # downsample to sync with stereo camera, same initial time frame\n",
    "    lidar_timestamp_5hz_list = lidar_timestamp_list[::2]\n",
    "    \n",
    "    for idx in range(len(lidar_5hz_list)):\n",
    "        timestamp = lidar_timestamp_5hz_list[idx]\n",
    "        print(\"index: \", idx, \"current timestamp: \", timestamp)\n",
    "        pc = load_ply(lidar_5hz_list[idx])\n",
    "        \n",
    "        uv = calibL.project_ego_to_image(pc)\n",
    "        #print(uv.shape)\n",
    "        #uv, uv_cam, valid_pts = project_lidar_to_img(pc, calibL, argoverse_loader.CAMERA_LIST[7])\n",
    "        \n",
    "        fov_inds = (uv[:, 0] < width - 1) & (uv[:, 0] >= 0) & \\\n",
    "                   (uv[:, 1] < height - 1)& (uv[:, 1] >= 0)\n",
    "        print(fov_inds.shape)\n",
    "        num_true = 0\n",
    "        for pt in fov_inds:\n",
    "            if(pt == True):\n",
    "                num_true += 1\n",
    "        print(num_true)\n",
    "        fov_inds = fov_inds & (pc[:, 0] > 1) # filters out points that are behind camera\n",
    "        num_true = 0\n",
    "        for pt in fov_inds:\n",
    "            if(pt == True):\n",
    "                num_true += 1\n",
    "        print(num_true)\n",
    "        print(fov_inds.shape)\n",
    "        \n",
    "        valid_uv = uv[fov_inds, :]\n",
    "        print(valid_uv.shape)\n",
    "        valid_uv = np.round(valid_uv).astype(int)\n",
    "        \n",
    "        valid_pc = pc[fov_inds, :]        \n",
    "        valid_uvd = calibL.project_ego_to_cam(valid_pc)\n",
    "        \n",
    "        depth_map = np.zeros((height, width)) - 1\n",
    "        \n",
    "        for i in range(valid_uv.shape[0]):\n",
    "            depth_map[int(valid_uv[i, 1]), int(valid_uv[i, 0])] = valid_uvd[i, 2]\n",
    "\n",
    "        disp_map = (calibL.K[0,0] * baseline) / depth_map\n",
    "        print(np.mean(disp_map))\n",
    "        print(type(disp_map))\n",
    "        \n",
    "        #new_im = Image.fromarray(disp_map)\n",
    "        #imshow(new_im)\n",
    "        # np.save(disparity_dir + '/' + str(timestamp), disp_map)\n",
    "        \n",
    "        break"
   ]
  },
  {
   "cell_type": "code",
   "execution_count": null,
   "metadata": {},
   "outputs": [],
   "source": []
  }
 ],
 "metadata": {
  "kernelspec": {
   "display_name": "Python 3",
   "language": "python",
   "name": "python3"
  },
  "language_info": {
   "codemirror_mode": {
    "name": "ipython",
    "version": 3
   },
   "file_extension": ".py",
   "mimetype": "text/x-python",
   "name": "python",
   "nbconvert_exporter": "python",
   "pygments_lexer": "ipython3",
   "version": "3.6.8"
  }
 },
 "nbformat": 4,
 "nbformat_minor": 2
}
